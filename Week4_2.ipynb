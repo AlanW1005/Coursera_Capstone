{
 "cells": [
  {
   "cell_type": "markdown",
   "metadata": {},
   "source": [
    "# Capstone Project"
   ]
  },
  {
   "cell_type": "markdown",
   "metadata": {},
   "source": [
    "## 4.3 Data Description and Analysis"
   ]
  },
  {
   "cell_type": "markdown",
   "metadata": {},
   "source": [
    "##### [1] The coordinates (latitude, longitude) of Kuala Lumpur. The information can be obtained from Google\n",
    "#####     ( https://maps.googleapis.com )"
   ]
  },
  {
   "cell_type": "markdown",
   "metadata": {},
   "source": [
    "##### [2] The venue data from foursquare for the following:\n",
    "-  shopping malls in Kuala Lumpur\n",
    "-  offices in Kuala Lumpur\n",
    "-  tourist venues in Kuala Lumpur\n",
    "-  education institutions (school, college, etc) in Kuala Lumpur"
   ]
  },
  {
   "cell_type": "markdown",
   "metadata": {},
   "source": [
    "##### For each shopping mall in Kuala Lumpur, a distance score will be calculated with the nearest offices, tourist venues and educational insitutions."
   ]
  },
  {
   "cell_type": "markdown",
   "metadata": {},
   "source": [
    "##### The distance score will be multiplied with the relevant weight as follows:\n",
    "-  1 for offices\n",
    "-  1.5 for education institution\n",
    "-  2 for tourist venues\n",
    "\n",
    "##### Office is assigned 1 as the office workers would most likely pay a visit to the (near) shopping small during lunch hour/after work.\n",
    "\n",
    "##### Note that we are measuring the score with distance, hence the more favorable is assigned less weight."
   ]
  },
  {
   "cell_type": "markdown",
   "metadata": {},
   "source": [
    "##### The aim is to find the shopping small with minimum score (as nearest distance is less)."
   ]
  },
  {
   "cell_type": "markdown",
   "metadata": {},
   "source": [
    "##### Clustering may also be done to find the list of shopping malls that are likely to have more customers."
   ]
  },
  {
   "cell_type": "code",
   "execution_count": null,
   "metadata": {},
   "outputs": [],
   "source": []
  }
 ],
 "metadata": {
  "kernelspec": {
   "display_name": "Python 3",
   "language": "python",
   "name": "python3"
  },
  "language_info": {
   "codemirror_mode": {
    "name": "ipython",
    "version": 3
   },
   "file_extension": ".py",
   "mimetype": "text/x-python",
   "name": "python",
   "nbconvert_exporter": "python",
   "pygments_lexer": "ipython3",
   "version": "3.6.6"
  }
 },
 "nbformat": 4,
 "nbformat_minor": 2
}
