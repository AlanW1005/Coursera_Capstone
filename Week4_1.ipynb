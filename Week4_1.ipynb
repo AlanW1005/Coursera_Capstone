{
 "cells": [
  {
   "cell_type": "markdown",
   "metadata": {},
   "source": [
    "# Capstone Project"
   ]
  },
  {
   "cell_type": "markdown",
   "metadata": {},
   "source": [
    "## 4.1 Problem Description"
   ]
  },
  {
   "cell_type": "markdown",
   "metadata": {},
   "source": [
    "##### ABC Burger is seeking to expand their business in Kuala Lumpur, Malaysia. Their main goal is to look for an optimum location (shopping malls) in Kuala Lumpur to attract enough customers to generate profit. "
   ]
  },
  {
   "cell_type": "markdown",
   "metadata": {},
   "source": [
    "## 4.2 Background"
   ]
  },
  {
   "cell_type": "markdown",
   "metadata": {},
   "source": [
    "##### Kuala Lumpur is the national capital and largest city in Malaysia. The first fast food restaurant is opened in Kuala Lumpur in 1961. Since then, many multinational fast food franchise open their outlet in Malaysia. Burger is well accepted by Malaysian and is considered a staple food for them. Research has shown that 71% of Malaysian eat at fast food restaurants at least once a week and the industry has generated multimillion with annual growth rate of about 10%. Hence ABC Burger is seeking to expand their business in Kuala Lumpur."
   ]
  },
  {
   "cell_type": "code",
   "execution_count": null,
   "metadata": {},
   "outputs": [],
   "source": []
  }
 ],
 "metadata": {
  "kernelspec": {
   "display_name": "Python 3",
   "language": "python",
   "name": "python3"
  },
  "language_info": {
   "codemirror_mode": {
    "name": "ipython",
    "version": 3
   },
   "file_extension": ".py",
   "mimetype": "text/x-python",
   "name": "python",
   "nbconvert_exporter": "python",
   "pygments_lexer": "ipython3",
   "version": "3.6.6"
  }
 },
 "nbformat": 4,
 "nbformat_minor": 2
}
