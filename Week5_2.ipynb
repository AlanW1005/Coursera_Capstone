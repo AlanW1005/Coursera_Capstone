{
 "cells": [
  {
   "cell_type": "markdown",
   "metadata": {},
   "source": [
    "# Capstone Project - Final Report"
   ]
  },
  {
   "cell_type": "markdown",
   "metadata": {},
   "source": [
    "## Introduction"
   ]
  },
  {
   "cell_type": "markdown",
   "metadata": {},
   "source": [
    "##### ABC Burger is seeking to expand their business in Kuala Lumpur, Malaysia. Having successes in the Kuala Lumpur City Centre, their main goal is to look for an optimum location that is similar to the Kuala Lumpur City Centre to attract enough customers to generate profit."
   ]
  },
  {
   "cell_type": "markdown",
   "metadata": {},
   "source": [
    "## Business Problem"
   ]
  },
  {
   "cell_type": "markdown",
   "metadata": {},
   "source": [
    "##### Kuala Lumpur is the national capital and largest city in Malaysia. The first fast food restaurant is opened in Kuala Lumpur in 1961. Since then, many multinational fast food franchise open their outlet in Malaysia. Burger is well accepted by Malaysian and is considered a staple food for them. Research has shown that 71% of Malaysian eat at fast food restaurants at least once a week and the industry has generated multimillion with annual growth rate of about 10%. Hence ABC Burger is seeking to expand their business in similar city like Kuala Lumpur City Centre."
   ]
  },
  {
   "cell_type": "markdown",
   "metadata": {},
   "source": [
    "## Data"
   ]
  },
  {
   "cell_type": "markdown",
   "metadata": {},
   "source": [
    "##### [1] The coordinates (latitude, longitude) of Kuala Lumpur. The information can be obtained from Google\n",
    "#####     ( https://maps.googleapis.com )"
   ]
  },
  {
   "cell_type": "markdown",
   "metadata": {},
   "source": [
    "##### [2] The venue data from foursquare for the following:\n",
    "-  shopping malls in Kuala Lumpur\n",
    "-  offices in Kuala Lumpur\n",
    "-  tourist venues in Kuala Lumpur\n",
    "-  education institutions (school, college, etc) in Kuala Lumpur\n",
    "-  etc"
   ]
  },
  {
   "cell_type": "markdown",
   "metadata": {},
   "source": [
    "## Methodology"
   ]
  },
  {
   "cell_type": "markdown",
   "metadata": {},
   "source": [
    "##### The latitude and longitude for each neighborhood of Kuala Lumpur is searched and put into a dataframe. Folium map is used to have a visualization of the location of the neighborhood. The nearby venues are extracted from the Foursquare and exploratory data analysis is done to explore the neighborhood in Kuala Lumpur. There is no any statistical testing being done on the analysis. One-hot encoding is performed to convert the categorical variables into the form suitable to implement machine learning algorithm."
   ]
  },
  {
   "cell_type": "markdown",
   "metadata": {},
   "source": [
    "##### Machine learning: k-means clustering is used to find the cluster where Kuala Lumpur City Centre is in. From the cluster, we can identify the similar city as Kuala Lumpur City Centre"
   ]
  },
  {
   "cell_type": "markdown",
   "metadata": {},
   "source": [
    "## Results"
   ]
  },
  {
   "cell_type": "markdown",
   "metadata": {},
   "source": [
    "##### Based on the approach described in methodology,  the clustering show that cities with the same cluster as Kuala Lumpur City Centre are as follows:  Ampang, TTDI, Damansara Heights, Desa ParkCity, Bukit Tunku, Subang Jaya, Cyberjaya, Shah Alam, Klang, Batu Caves.\n",
    "\n",
    "##### There are a total of 10 cities that ABC Burger can consider to open their outlet."
   ]
  },
  {
   "cell_type": "markdown",
   "metadata": {},
   "source": [
    "## Discussion"
   ]
  },
  {
   "cell_type": "markdown",
   "metadata": {},
   "source": [
    "#### [a] Observations\n",
    "##### [1] It is quite surprising to se that many cities are similar to Kuala Lumpur City Centre"
   ]
  },
  {
   "cell_type": "markdown",
   "metadata": {},
   "source": [
    "#### [b] Recommendations \n",
    "##### [1] Instead of looking at all the venues, we can restrict to certain venues only (e.g. shopping malls, offices, college/university, etc) to reflect the business problem\n",
    "##### [2] Among the cities in the same cluster, consider a scoring algorithm where we can determine the best city to open the outlet"
   ]
  },
  {
   "cell_type": "markdown",
   "metadata": {},
   "source": [
    "## Conclusion"
   ]
  },
  {
   "cell_type": "markdown",
   "metadata": {},
   "source": [
    "##### Based on the analysis, we recommend the ABC Burger to open their outlet in Damansara Heights. This is because the city is similar to Kuala Lumpur City Centre and is an affluent place."
   ]
  },
  {
   "cell_type": "code",
   "execution_count": null,
   "metadata": {},
   "outputs": [],
   "source": []
  }
 ],
 "metadata": {
  "kernelspec": {
   "display_name": "Python 3",
   "language": "python",
   "name": "python3"
  },
  "language_info": {
   "codemirror_mode": {
    "name": "ipython",
    "version": 3
   },
   "file_extension": ".py",
   "mimetype": "text/x-python",
   "name": "python",
   "nbconvert_exporter": "python",
   "pygments_lexer": "ipython3",
   "version": "3.6.6"
  }
 },
 "nbformat": 4,
 "nbformat_minor": 2
}
